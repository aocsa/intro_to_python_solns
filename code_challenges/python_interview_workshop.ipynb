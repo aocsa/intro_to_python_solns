{
  "nbformat": 4,
  "nbformat_minor": 0,
  "metadata": {
    "colab": {
      "name": "python_interview_workshop",
      "provenance": [],
      "collapsed_sections": []
    },
    "kernelspec": {
      "name": "python3",
      "display_name": "Python 3"
    }
  },
  "cells": [
    {
      "cell_type": "markdown",
      "metadata": {
        "id": "Tc6iYkuuQlqA",
        "colab_type": "text"
      },
      "source": [
        "## Remainder After Expansion \n",
        "Write a function named `remainder_after_expansion` that \n",
        "- takes three arguments: `x`, `exponent`, and `divisor`. \n",
        "- Return the remainder from dividing `x` raised to the `exponent` by the `divisor`."
      ]
    },
    {
      "cell_type": "code",
      "metadata": {
        "id": "MASXzELuQlF6",
        "colab_type": "code",
        "outputId": "67d999cf-921d-413d-b3e8-5cb75db2ba3f",
        "colab": {
          "base_uri": "https://localhost:8080/",
          "height": 34
        }
      },
      "source": [
        "def remainder_after_expansion(x, exponent, divisor):\n",
        "  \"\"\"\n",
        "  Return the remainder from dividing {x} raised to the {exponent} by the {divisor}\n",
        "  \"\"\"\n",
        "  # cal = x ^ exponent \n",
        "  cal = x ** exponent\n",
        "  # find remainder cal / divisor \n",
        "  result = cal % divisor\n",
        "  # output result\n",
        "  return result \n",
        "\n",
        "\n",
        "# test the function (expect == 0)\n",
        "remainder_after_expansion(2, 3, 4)"
      ],
      "execution_count": 0,
      "outputs": [
        {
          "output_type": "execute_result",
          "data": {
            "text/plain": [
              "0"
            ]
          },
          "metadata": {
            "tags": []
          },
          "execution_count": 28
        }
      ]
    },
    {
      "cell_type": "markdown",
      "metadata": {
        "id": "Zd71lMrdQYwI",
        "colab_type": "text"
      },
      "source": [
        "## Divisible by Low Primes\n",
        "Write a function called `divisible_by_low_primes` that \n",
        "- takes a number as input from the user, \n",
        "  - and returns `True` if that number is divisible by 2, 3, 5, or 7, \n",
        "  - or `False` if it is divisible by none of those."
      ]
    },
    {
      "cell_type": "code",
      "metadata": {
        "id": "li4igDRMQY-Z",
        "colab_type": "code",
        "outputId": "93a883a2-a2ff-4bd4-c802-8c470180f6e8",
        "colab": {
          "base_uri": "https://localhost:8080/",
          "height": 34
        }
      },
      "source": [
        "def divisible_by_low_primes(number, low_primes=[2,3,5,7]):\n",
        "  # check if number is evenly divisible by low primes\n",
        "  for prime in low_primes:\n",
        "    # is our num evenly divisible by the prime in question \n",
        "    if number % prime == 0:\n",
        "      # yes, let us know and end the funciton\n",
        "      return True \n",
        "  # went through all numbers, none work\n",
        "  return False \n",
        "\n",
        "# test the function (expect == False)\n",
        "divisible_by_low_primes(11)"
      ],
      "execution_count": 0,
      "outputs": [
        {
          "output_type": "execute_result",
          "data": {
            "text/plain": [
              "False"
            ]
          },
          "metadata": {
            "tags": []
          },
          "execution_count": 27
        }
      ]
    },
    {
      "cell_type": "markdown",
      "metadata": {
        "id": "xj__twl5S6PU",
        "colab_type": "text"
      },
      "source": [
        "## Fourth Order Polynomial\n",
        "Write a function called `calc_fourth_order_polyn()` that returns the result of a 4th order polynomial of the form:\n",
        "\n",
        "$$\n",
        "y = Ax^4 + Bx^3 + Cx^2 + Dx + E\n",
        "$$"
      ]
    },
    {
      "cell_type": "code",
      "metadata": {
        "id": "PjR2r1KuS50L",
        "colab_type": "code",
        "outputId": "694db734-75e0-40fd-910f-67044ce90988",
        "colab": {
          "base_uri": "https://localhost:8080/",
          "height": 34
        }
      },
      "source": [
        "def calc_fourth_order_polyn(A, B, C, D, E, x):\n",
        "  # calc individual outcomes \n",
        "  a = A * (x**4)  # 32\n",
        "  b = B * (x**3)  # 16\n",
        "  c = C * (x**2)  # 8\n",
        "  d = D * (x**1)  # 4\n",
        "  # calculate final outcome\n",
        "  out = a + b + c + d + E\n",
        "  # output final answer\n",
        "  return out\n",
        "\n",
        "\n",
        "# test the function (expect == 62)\n",
        "calc_fourth_order_polyn(2, 2, 2, 2, 2, 2)"
      ],
      "execution_count": 0,
      "outputs": [
        {
          "output_type": "execute_result",
          "data": {
            "text/plain": [
              "62"
            ]
          },
          "metadata": {
            "tags": []
          },
          "execution_count": 24
        }
      ]
    },
    {
      "cell_type": "markdown",
      "metadata": {
        "id": "SrZ0XmpkSkCo",
        "colab_type": "text"
      },
      "source": [
        "### Favorite Number\n",
        "1. Write a function called `discuss_favorite_number()` that \n",
        "  - asks the user for their favorite number between 0 and 100. \n",
        "2. Print different messages depending on in which quartile the favorite number falls. \n",
        "  - Make up your own messages."
      ]
    },
    {
      "cell_type": "code",
      "metadata": {
        "id": "LCIYqesHSkLK",
        "colab_type": "code",
        "outputId": "709a6224-3b82-497a-ae93-bac645c24a65",
        "colab": {
          "base_uri": "https://localhost:8080/",
          "height": 52
        }
      },
      "source": [
        "def discuss_favorite_number():\n",
        "    fav_number = int(input('Enter your favorite number: '))\n",
        "    # check number is logical \n",
        "    if (fav_number <= 0) or (fav_number >= 100):\n",
        "      # error alert\n",
        "      raise Exception('your number is not between 0 and 100')\n",
        "    # 0 - 25\n",
        "    if fav_number <= 25:\n",
        "      return \"I used to think numbers in the 1st quartile were cool\"\n",
        "    # 26 - 50 \n",
        "    elif fav_number <= 50:\n",
        "      return \"cool you're in the 2nd quartile\"\n",
        "    # 51 - 75\n",
        "    elif fav_number <= 75:\n",
        "      return \"I don't like you, nerd.\"\n",
        "    # 76 - 100\n",
        "    else: \n",
        "      return \"top shelf. nice.\"\n",
        "\n",
        "\n",
        "# test the funciton\n",
        "discuss_favorite_number()"
      ],
      "execution_count": 0,
      "outputs": [
        {
          "output_type": "stream",
          "text": [
            "Enter your favorite number: 77\n"
          ],
          "name": "stdout"
        },
        {
          "output_type": "execute_result",
          "data": {
            "text/plain": [
              "'top shelf. nice.'"
            ]
          },
          "metadata": {
            "tags": []
          },
          "execution_count": 26
        }
      ]
    },
    {
      "cell_type": "markdown",
      "metadata": {
        "id": "IMuIgxQNSJZG",
        "colab_type": "text"
      },
      "source": [
        "### Phone Book \n",
        "- Write a function called `select_department()` that \n",
        "  - asks the user for the department they want to reach \n",
        "  - and returns the phone number for that department. \n",
        "    - Feel free to make these up. \n",
        "    - Return the string `Erroneous Choice` if they make a choice not in the list."
      ]
    },
    {
      "cell_type": "code",
      "metadata": {
        "id": "h_J16VLlSJiJ",
        "colab_type": "code",
        "outputId": "37dd8807-5196-4e62-d004-6fe55906f9bc",
        "colab": {
          "base_uri": "https://localhost:8080/",
          "height": 158
        }
      },
      "source": [
        "def select_department():\n",
        "  # menu for user\n",
        "  menu = '''\n",
        "          Select a Department:\n",
        "          (1) Shipping and Receiving\n",
        "          (2) Customer Service\n",
        "          (3) Human Resources\n",
        "          (4) IT\n",
        "          '''\n",
        "  # ask for user choice\n",
        "  selection = int(input(menu))\n",
        "  # dictionary of department numbers \n",
        "  phone_book = {1 : '111-111-1111',\n",
        "                2 : '222-222-2222',\n",
        "                3 : '333-333-3333',\n",
        "                4 : '444-444-4444'}\n",
        "  # return the phone number to the user\n",
        "  if selection not in phone_book:\n",
        "    return 'Erroneous Choice'\n",
        "  # good choice, return the number asked for \n",
        "  return phone_book[selection]\n",
        "\n",
        "\n",
        "# test the funciton \n",
        "select_department()"
      ],
      "execution_count": 0,
      "outputs": [
        {
          "output_type": "stream",
          "text": [
            "\n",
            "          Select a Department:\n",
            "          (1) Shipping and Receiving\n",
            "          (2) Customer Service\n",
            "          (3) Human Resources\n",
            "          (4) IT\n",
            "          4\n"
          ],
          "name": "stdout"
        },
        {
          "output_type": "execute_result",
          "data": {
            "text/plain": [
              "'444-444-4444'"
            ]
          },
          "metadata": {
            "tags": []
          },
          "execution_count": 29
        }
      ]
    },
    {
      "cell_type": "markdown",
      "metadata": {
        "id": "-Qnpo-uHRD14",
        "colab_type": "text"
      },
      "source": [
        "## Median of List\n",
        "- Write a function called `get_median_of_list` that takes a list and returns the median of the values in that list.\n",
        "- Make sure you account for the case where the list has an even number of values in it!"
      ]
    },
    {
      "cell_type": "code",
      "metadata": {
        "id": "0NsG9IdDRECg",
        "colab_type": "code",
        "colab": {}
      },
      "source": [
        "# helper function for sorting the list\n",
        "def sort_this_list(a_list):\n",
        "  \"\"\"\n",
        "  return a given list in order from least to greatest\n",
        "  \"\"\"\n",
        "  # make the output list\n",
        "  sorted_list = []\n",
        "  # as long as the og list exists\n",
        "  while len(a_list) > 0:\n",
        "    # identify the lowest number \n",
        "    small = a_list[0]\n",
        "    # go through the list \n",
        "    for item in a_list:\n",
        "      # check if the number is smaller than current assumed smallest\n",
        "      if item < small:\n",
        "        # switch item for small if item is smaller than small\n",
        "        small = item\n",
        "    # add the smallest item to the new sorted list\n",
        "    sorted_list.append(small)\n",
        "    # remove small from the og list \n",
        "    a_list.remove(small)\n",
        "  # output the sorted list\n",
        "  return sorted_list\n",
        "  \n",
        "\n",
        "# make a test case\n",
        "test = [3, 6, 1, 7]\n",
        "# test the funciton \n",
        "sort_this_list(test)"
      ],
      "execution_count": 0,
      "outputs": []
    },
    {
      "cell_type": "code",
      "metadata": {
        "id": "dNuo85xyRaHL",
        "colab_type": "code",
        "colab": {}
      },
      "source": [
        "def get_median_of_list(num_list):\n",
        "  # use our helper function to make sure list is sorted (from least to greatest)\n",
        "  sorted_list = sort_this_list(num_list)\n",
        "  # is the list odd in length \n",
        "  if len(sorted_list) % 2 == 1:\n",
        "    # yes, so output median (located at half the len of the list)\n",
        "    return sorted_list[len(sorted_list) // 2] \n",
        "  # this list is even in length\n",
        "  else:\n",
        "    # take the number at the index 1 below half the length of the list\n",
        "    num1 = sorted_list[len(sorted_list) // 2 - 1] \n",
        "    # and the number at the index half the length of the list\n",
        "    num2 = sorted_list[(len(sorted_list) // 2)]\n",
        "    # sum the numbers\n",
        "    num = num1 + num2\n",
        "    # find the average\n",
        "    out = num / 2\n",
        "    # output the median\n",
        "    return out\n",
        "\n",
        "\n",
        "# define a test \n",
        "test_numbers = [3, 5, 8, 4, 2, 7]\n",
        "# test the funciton (expect == 4.5)\n",
        "get_median_of_list(test_numbers)"
      ],
      "execution_count": 0,
      "outputs": []
    },
    {
      "cell_type": "markdown",
      "metadata": {
        "id": "-Zxw8PP2Kpq7",
        "colab_type": "text"
      },
      "source": [
        "## Count Isograms\n",
        "- implement a function that counts the number of isograms in a list of words (strings)\n",
        "- an isogram is a word that has no repeating letters, consecutive or nonconsecutive"
      ]
    },
    {
      "cell_type": "code",
      "metadata": {
        "id": "uFom1izxyBPv",
        "colab_type": "code",
        "outputId": "c77856fb-6f03-432c-d175-d08ff2c973f4",
        "colab": {
          "base_uri": "https://localhost:8080/",
          "height": 34
        }
      },
      "source": [
        "def count_isograms(word_list):\n",
        "  \"\"\"\n",
        "  counts the number of isograms in a list of words (strings)\n",
        "  \"\"\"\n",
        "  # establish a count\n",
        "  count = 0\n",
        "  # go through each word\n",
        "  for word in word_list:\n",
        "    # make a dictionary for the word\n",
        "    word_dict = {}\n",
        "    # go through the word in quesiton \n",
        "    for char in word:\n",
        "      # check if the character is in the dictionary \n",
        "      if char not in word_dict:\n",
        "        # add it to the dictionary if not\n",
        "        word_dict.update({char : 1})\n",
        "      # otherwise\n",
        "      else:\n",
        "        # get out of this loop\n",
        "        break \n",
        "    # did characters only happen once?\n",
        "    if len(word_dict) == len(word):\n",
        "      # we have an isogram, update the count\n",
        "      count += 1\n",
        "  # output the final count\n",
        "  return count \n",
        "\n",
        "\n",
        "# make a test case\n",
        "test_list = ['hey', 'there', 'class', 'is', 'starting', \n",
        "             'wow', 'lol', 'test', 'did this work', 'work']\n",
        "\n",
        "# test the function (expect == 3)\n",
        "count_isograms(test_list)\n",
        "  "
      ],
      "execution_count": 0,
      "outputs": [
        {
          "output_type": "execute_result",
          "data": {
            "text/plain": [
              "3"
            ]
          },
          "metadata": {
            "tags": []
          },
          "execution_count": 16
        }
      ]
    },
    {
      "cell_type": "markdown",
      "metadata": {
        "id": "63fWyK56K079",
        "colab_type": "text"
      },
      "source": [
        "## Letter Counter\n",
        "- write a function that counts the number of times a given letter appears in a document\n",
        "- the output should be in a dictionary "
      ]
    },
    {
      "cell_type": "code",
      "metadata": {
        "id": "zlKn0zN40L5q",
        "colab_type": "code",
        "colab": {}
      },
      "source": [
        "def letter_counter(document, letter):\n",
        "  \"\"\"\n",
        "  return (dict) number of times a given letter occours in a given document \n",
        "\n",
        "  inputs\n",
        "    > document\n",
        "      >> file path\n",
        "    > letter\n",
        "      >> letter to count in the document \n",
        "  \"\"\"\n",
        "  # establish a count\n",
        "  count = 0\n",
        "  # open up the document \n",
        "  with open(document) as doc: \n",
        "    # go through each line\n",
        "    for line in doc:\n",
        "      # go through each letter in the line\n",
        "      for letter in line: \n",
        "        # is that the letter we are looking for?\n",
        "        if letter == letter: \n",
        "          # yes, so count it\n",
        "          count += 1 \n",
        "  # output the final count\n",
        "  return count \n",
        "\n",
        "\n",
        "# define a test\n",
        "test_file_path = 'data/test.txt'  # this will NOT work in Google Colab\n",
        "test_letter = 'a'\n",
        "\n",
        "# test the function (expect == 6)\n",
        "letter_counter(test_file_path, test_letter)"
      ],
      "execution_count": 0,
      "outputs": []
    },
    {
      "cell_type": "markdown",
      "metadata": {
        "id": "Pds7e2gpLFag",
        "colab_type": "text"
      },
      "source": [
        "## Remove Item\n",
        "- Write a function that removes one occurrence of a given item from a list. \n",
        "- Do not use methods `.pop()` or `.remove()`! \n",
        "- If the item is not present in the list, the output should be `‘The item is not in the list’`"
      ]
    },
    {
      "cell_type": "code",
      "metadata": {
        "id": "pgZWi0h425Nz",
        "colab_type": "code",
        "outputId": "782aa25c-b233-42af-a963-2b951499f61e",
        "colab": {
          "base_uri": "https://localhost:8080/",
          "height": 34
        }
      },
      "source": [
        "def remove_item(list_of_items, item_to_remove):\n",
        "  # make a new list\n",
        "  output = []  \n",
        "  # make a count\n",
        "  count = 0\n",
        "\n",
        "  # check that the item to remove is in the list of items\n",
        "  if item_to_remove not in list_of_items:\n",
        "    # item not found\n",
        "    raise Exception('The item is not in the list')\n",
        "\n",
        "  # go through the index of the list\n",
        "  for i in range(len(list_of_items)):\n",
        "    # if the item at this index is not item_to_remove\n",
        "    if list_of_items[i] != item_to_remove:\n",
        "      # add the item at this index to output list\n",
        "      output.append(list_of_items[i])\n",
        "    # the item at this index is the item_to_remove\n",
        "    else: \n",
        "      # has this item been encountered 1 or less times\n",
        "      if count < 1:\n",
        "        # ok, remember that we have encountered this item\n",
        "        count += 1 \n",
        "      # this item has been encountered before\n",
        "      else:\n",
        "        # we just want to remove the fist occourence, so add it to the output list\n",
        "        output.append(list_of_items[i])\n",
        "  # output the list with item removed\n",
        "  return output\n",
        "\n",
        "\n",
        "# define a test case\n",
        "test_item = 'dog'\n",
        "test_list = ['dog', 'cat', 'dog']\n",
        "# test the function (expect == ['cat', 'dog'])\n",
        "remove_item(test_list, test_item)"
      ],
      "execution_count": 0,
      "outputs": [
        {
          "output_type": "execute_result",
          "data": {
            "text/plain": [
              "['cat', 'dog']"
            ]
          },
          "metadata": {
            "tags": []
          },
          "execution_count": 23
        }
      ]
    }
  ]
}