{
 "cells": [
  {
   "cell_type": "code",
   "execution_count": 1,
   "metadata": {
    "colab": {
     "base_uri": "https://localhost:8080/",
     "height": 34
    },
    "colab_type": "code",
    "id": "mDyE231QWlfD",
    "outputId": "003ed361-d51c-49b1-d40c-4365d1c250c1"
   },
   "outputs": [
    {
     "data": {
      "text/plain": [
       "4"
      ]
     },
     "execution_count": 1,
     "metadata": {},
     "output_type": "execute_result"
    }
   ],
   "source": [
    "lst = [1,2,3,4]\n",
    "\n",
    "len(lst)"
   ]
  },
  {
   "cell_type": "code",
   "execution_count": 2,
   "metadata": {
    "colab": {
     "base_uri": "https://localhost:8080/",
     "height": 52
    },
    "colab_type": "code",
    "id": "yVST0GIcWo7k",
    "outputId": "be76bb0d-47d9-4c1b-95cf-2bbd0f3fc61d"
   },
   "outputs": [
    {
     "name": "stdout",
     "output_type": "stream",
     "text": [
      "[1, 2, 3, 4]\n",
      "['0', '1', '2', '3']\n"
     ]
    }
   ],
   "source": [
    "print(lst)\n",
    "for i in range(len(lst)):\n",
    "  lst[i] = str(i)\n",
    "print(lst)"
   ]
  },
  {
   "cell_type": "code",
   "execution_count": 3,
   "metadata": {
    "colab": {
     "base_uri": "https://localhost:8080/",
     "height": 34
    },
    "colab_type": "code",
    "id": "yrsylm5lW0qa",
    "outputId": "cae785c5-91a3-4813-c289-2bb1e33a9e7a"
   },
   "outputs": [
    {
     "data": {
      "text/plain": [
       "range"
      ]
     },
     "execution_count": 3,
     "metadata": {},
     "output_type": "execute_result"
    }
   ],
   "source": [
    "# what is range?\n",
    "type(range(7))"
   ]
  },
  {
   "cell_type": "markdown",
   "metadata": {
    "colab_type": "text",
    "id": "8lqqI3kfXWU5"
   },
   "source": [
    "# Magic Methods"
   ]
  },
  {
   "cell_type": "code",
   "execution_count": 4,
   "metadata": {
    "colab": {},
    "colab_type": "code",
    "id": "15aV38wGXC4l"
   },
   "outputs": [],
   "source": [
    "class OurClass():\n",
    "  \n",
    "  def __init__(self, name, location, size=0):\n",
    "    \"\"\"\n",
    "    initialize the instance \n",
    "    \"\"\"\n",
    "    # set name\n",
    "    self.name = name\n",
    "    # set location \n",
    "    self.location = location\n",
    "    # set size\n",
    "    self.size = size\n",
    "    \n",
    "    # keep a count of capacity \n",
    "    if self.size >= 20:\n",
    "      self.at_capacity = True\n",
    "    else:\n",
    "      self.at_capacity = False\n",
    "      \n",
    "    # make a list to collect questions\n",
    "    self.questions_asked = []\n",
    "    \n",
    "  def __len__(self):\n",
    "    \"\"\"\n",
    "    returns length of questions_asked\n",
    "    \"\"\"\n",
    "    return len(self.questions_asked)\n",
    "  \n",
    "  def add_question_asked(self, question):\n",
    "    \"\"\"\n",
    "    add a question to questions_asked \n",
    "    \n",
    "    inputs:\n",
    "      > question\n",
    "        >> question to add to questions list {self.questions_asked}\n",
    "    \"\"\"\n",
    "    self.questions_asked.append(question)\n",
    "    \n",
    "  def add_class_members(self, num):\n",
    "    \"\"\"\n",
    "    add {num} to total class size \n",
    "    \n",
    "    inputs:\n",
    "      > num\n",
    "        >> number of students to add to total {self.size}\n",
    "    \"\"\"\n",
    "    # add to size \n",
    "    self.size += num\n",
    "    # check capacity\n",
    "    if self.size >= 20:\n",
    "      print('Capacity Reached!!')\n",
    "      self.at_capacity = True\n",
    "      \n",
    "    def check_if_at_capacity(self):\n",
    "      return self.at_capacity"
   ]
  },
  {
   "cell_type": "code",
   "execution_count": 5,
   "metadata": {
    "colab": {},
    "colab_type": "code",
    "id": "tB7RT7f5XrbY"
   },
   "outputs": [],
   "source": [
    "# let's try it on today's class\n",
    "todays_class = OurClass(name='Winston', location='San Fran', size=8)"
   ]
  },
  {
   "cell_type": "code",
   "execution_count": 6,
   "metadata": {
    "colab": {
     "base_uri": "https://localhost:8080/",
     "height": 52
    },
    "colab_type": "code",
    "id": "rDHIw7sNXtsG",
    "outputId": "13ebdf31-cacd-4c29-888d-12b09ebfb762"
   },
   "outputs": [
    {
     "name": "stdout",
     "output_type": "stream",
     "text": [
      "0\n",
      "1\n"
     ]
    }
   ],
   "source": [
    "print(len(todays_class))\n",
    "# student asks a question \n",
    "todays_class.add_question_asked('what are the benefits of OOP?')\n",
    "print(len(todays_class))"
   ]
  },
  {
   "cell_type": "code",
   "execution_count": 7,
   "metadata": {
    "colab": {
     "base_uri": "https://localhost:8080/",
     "height": 34
    },
    "colab_type": "code",
    "id": "UZ6ElJjO_KiP",
    "outputId": "bc850a59-eebf-4df5-b3a5-3616a9fdb0b2"
   },
   "outputs": [
    {
     "name": "stdout",
     "output_type": "stream",
     "text": [
      "['what are the benefits of OOP?', 'when do I use OOP?']\n"
     ]
    }
   ],
   "source": [
    "# student asks a question \n",
    "todays_class.add_question_asked('when do I use OOP?')\n",
    "# what does the question log look like?\n",
    "print(todays_class.questions_asked)"
   ]
  },
  {
   "cell_type": "code",
   "execution_count": 8,
   "metadata": {
    "colab": {
     "base_uri": "https://localhost:8080/",
     "height": 52
    },
    "colab_type": "code",
    "id": "Xmi4bsoabxqk",
    "outputId": "b24bf6fe-2216-4a87-cdd8-87f8891d5455"
   },
   "outputs": [
    {
     "name": "stdout",
     "output_type": "stream",
     "text": [
      "8\n",
      "10\n"
     ]
    }
   ],
   "source": [
    "print(todays_class.size)\n",
    "# let's say 2 students walked in right now\n",
    "todays_class.add_class_members(2)\n",
    "print(todays_class.size)"
   ]
  },
  {
   "cell_type": "code",
   "execution_count": 10,
   "metadata": {
    "colab": {
     "base_uri": "https://localhost:8080/",
     "height": 34
    },
    "colab_type": "code",
    "id": "nL6s6DJMcIZS",
    "outputId": "4534dd2e-8afb-4be3-8413-825fd6cf5c25"
   },
   "outputs": [
    {
     "name": "stdout",
     "output_type": "stream",
     "text": [
      "False\n"
     ]
    }
   ],
   "source": [
    "# is the class full? (remember: we can fit 20)\n",
    "print(todays_class.at_capacity)"
   ]
  },
  {
   "cell_type": "markdown",
   "metadata": {
    "colab_type": "text",
    "id": "gW2x_g2Ujw3p"
   },
   "source": [
    "# Using Classes Pragmatically\n",
    "- when is OOP usefull?\n",
    "  - compare this situation "
   ]
  },
  {
   "cell_type": "code",
   "execution_count": 11,
   "metadata": {
    "colab": {},
    "colab_type": "code",
    "id": "DDOYfBi3cLHK"
   },
   "outputs": [],
   "source": [
    "# FUNCTIONAL\n",
    "def presidents_by_letter(country_pres_dict, letter):\n",
    "    letter_pres = []\n",
    "    for pres_list in country_pres_dict.values():\n",
    "        for pres in pres_list:\n",
    "            if pres[0].lower() == letter:\n",
    "                letter_pres.append(pres)\n",
    "    return letter_pres"
   ]
  },
  {
   "cell_type": "code",
   "execution_count": 12,
   "metadata": {
    "colab": {},
    "colab_type": "code",
    "id": "cTRvM7B3mAPD"
   },
   "outputs": [],
   "source": [
    "# OBJECT ORIENTED\n",
    "class CountriesPresidents():\n",
    "    def __init__(self, country_pres_dict):\n",
    "        self.country_pres_dict = country_pres_dict\n",
    "\n",
    "    def presidents_by_letter(self, letter):\n",
    "        letter_pres = []\n",
    "        for pres_list in self.country_pres_dict.values():\n",
    "            for pres in pres_list:\n",
    "                if pres[0].lower() == letter:\n",
    "                    letter_pres.append(pres)\n",
    "        return letter_pres"
   ]
  },
  {
   "cell_type": "markdown",
   "metadata": {
    "colab_type": "text",
    "id": "6MLtH4wljOf2"
   },
   "source": [
    "# Report Creator\n",
    "- we've done this with functional programming\n",
    "  - here's what it looked like"
   ]
  },
  {
   "cell_type": "code",
   "execution_count": 13,
   "metadata": {
    "colab": {},
    "colab_type": "code",
    "id": "2VcoiouFBF5I"
   },
   "outputs": [],
   "source": [
    "def update_counts(line, counts_dict):\n",
    "    \"\"\"\n",
    "    update a given dictionary for the number of \n",
    "      characters, sentences, and words in a line\n",
    "    \"\"\"\n",
    "    for char in line:\n",
    "        counts_dict['characters'] += 1\n",
    "        if char == '.':\n",
    "            counts_dict['sentences'] += 1\n",
    "        elif char == ' ':\n",
    "            counts_dict['words'] += 1\n",
    "    counts_dict['words'] += 1\n",
    "\n",
    "\n",
    "def create_report(file_path):\n",
    "    \"\"\"\n",
    "    return a dictionary containing the number of \n",
    "      sentences, words, and characters in a given text file\n",
    "    \"\"\"\n",
    "    counts_dict = {'sentences': 0, 'words': 0, 'characters': 0}\n",
    "    with open(file_path) as txt_file:\n",
    "        for line in txt_file:\n",
    "            update_counts(line, counts_dict)\n",
    "    return counts_dict"
   ]
  },
  {
   "cell_type": "code",
   "execution_count": 15,
   "metadata": {
    "colab": {},
    "colab_type": "code",
    "id": "VU79LklCBQ0S"
   },
   "outputs": [
    {
     "data": {
      "text/plain": [
       "{'sentences': 1346, 'words': 37852, 'characters': 205441}"
      ]
     },
     "execution_count": 15,
     "metadata": {},
     "output_type": "execute_result"
    }
   ],
   "source": [
    "create_report('beginning_assignment/books/flatland.txt')"
   ]
  },
  {
   "cell_type": "markdown",
   "metadata": {
    "colab_type": "text",
    "id": "RNAvKrw6BJWT"
   },
   "source": [
    "### how does it look in OOP?"
   ]
  },
  {
   "cell_type": "code",
   "execution_count": 16,
   "metadata": {
    "colab": {},
    "colab_type": "code",
    "id": "RvJZw9KgjPvS"
   },
   "outputs": [],
   "source": [
    "from collections import Counter\n",
    "\n",
    "class ReportCreator():\n",
    "    def __init__(self):\n",
    "        # collect all unique \n",
    "        self.vocabulary = set()\n",
    "        # make a master dictionary\n",
    "        self.master_counts_dict = Counter(sentences=0, words=0, characters=0)\n",
    "\n",
    "    def create_reports(self, file_paths):\n",
    "        \"\"\"\n",
    "        make multiple reports\n",
    "        \"\"\"\n",
    "        for file_path in file_paths:\n",
    "            self.create_report(file_path)\n",
    "\n",
    "    def create_report(self, file_path):\n",
    "        \"\"\"\n",
    "        create a report of sentences, words, and characters for a given file\n",
    "        \"\"\"\n",
    "        # use our import (Counter) to initialize a dictionary \n",
    "        counts_dict = Counter(sentences=0, words=0, characters=0)\n",
    "        # open the file \n",
    "        with open(file_path) as txt_file:\n",
    "            for line in txt_file:\n",
    "                self._update_counts(line, counts_dict)\n",
    "            self.master_counts_dict += counts_dict\n",
    "        return counts_dict\n",
    "\n",
    "    def _update_counts(self, line, counts_dict):\n",
    "        \"\"\"\n",
    "        update the counts for sentences, words, and characters \n",
    "        \"\"\"\n",
    "        # make a function to update vocabulary \n",
    "        def update_words(word):\n",
    "            counts_dict['words'] += 1\n",
    "            self.vocabulary.add(word)\n",
    "            return ''\n",
    "        # default \"word\"\n",
    "        word = ''\n",
    "        for char in line:\n",
    "            counts_dict['characters'] += 1\n",
    "            if char in '?.!':\n",
    "                counts_dict['sentences'] += 1\n",
    "            elif char == ' ':\n",
    "                word = update_words(word)\n",
    "            else:\n",
    "                word += char.lower()\n",
    "        update_words(word)\n",
    "\n",
    "    def __len__(self):\n",
    "        \"\"\"\n",
    "        check the length of vocabulary\n",
    "        \"\"\"\n",
    "        return len(self.vocabulary)\n"
   ]
  },
  {
   "cell_type": "code",
   "execution_count": 17,
   "metadata": {
    "colab": {},
    "colab_type": "code",
    "id": "7J3oPjJ7x9kJ"
   },
   "outputs": [],
   "source": [
    "# set an instance of Report Creator\n",
    "rc = ReportCreator()"
   ]
  },
  {
   "cell_type": "code",
   "execution_count": 18,
   "metadata": {
    "colab": {},
    "colab_type": "code",
    "id": "XbnkLvcFBY__"
   },
   "outputs": [],
   "source": [
    "# let's make some reports\n",
    "rc.create_reports(['beginning_assignment/books/flatland.txt',\n",
    "                   'beginning_assignment/books/programming_languages.txt'])"
   ]
  },
  {
   "cell_type": "code",
   "execution_count": 21,
   "metadata": {
    "colab": {},
    "colab_type": "code",
    "id": "sMa_UHBgBZlY"
   },
   "outputs": [
    {
     "data": {
      "text/plain": [
       "Counter({'sentences': 1596, 'words': 38753, 'characters': 211759})"
      ]
     },
     "execution_count": 21,
     "metadata": {},
     "output_type": "execute_result"
    }
   ],
   "source": [
    "# what's the master dictionary look like?\n",
    "rc.master_counts_dict"
   ]
  },
  {
   "cell_type": "code",
   "execution_count": 22,
   "metadata": {
    "colab": {},
    "colab_type": "code",
    "id": "bj_XNyFJBZoY"
   },
   "outputs": [
    {
     "data": {
      "text/plain": [
       "7935"
      ]
     },
     "execution_count": 22,
     "metadata": {},
     "output_type": "execute_result"
    }
   ],
   "source": [
    "# how many unique words were there in the texts?\n",
    "len(rc)"
   ]
  },
  {
   "cell_type": "code",
   "execution_count": 23,
   "metadata": {
    "colab": {},
    "colab_type": "code",
    "id": "8WpAP52EBZrm"
   },
   "outputs": [
    {
     "data": {
      "text/plain": [
       "<__main__.ReportCreator at 0x102cbcb70>"
      ]
     },
     "execution_count": 23,
     "metadata": {},
     "output_type": "execute_result"
    }
   ],
   "source": [
    "# remember, we have created a type!\n",
    "rc"
   ]
  },
  {
   "cell_type": "code",
   "execution_count": null,
   "metadata": {},
   "outputs": [],
   "source": []
  }
 ],
 "metadata": {
  "colab": {
   "collapsed_sections": [],
   "name": "from_class_notebook.ipynb",
   "provenance": []
  },
  "kernelspec": {
   "display_name": "Python 3",
   "language": "python",
   "name": "python3"
  },
  "language_info": {
   "codemirror_mode": {
    "name": "ipython",
    "version": 3
   },
   "file_extension": ".py",
   "mimetype": "text/x-python",
   "name": "python",
   "nbconvert_exporter": "python",
   "pygments_lexer": "ipython3",
   "version": "3.7.2"
  }
 },
 "nbformat": 4,
 "nbformat_minor": 1
}
