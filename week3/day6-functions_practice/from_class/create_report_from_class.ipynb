{
 "cells": [
  {
   "cell_type": "markdown",
   "metadata": {},
   "source": [
    "# Create Report \n",
    "This is a modified version of the notebook we coded during the first half of class today.\n",
    "- **Part 1** (the next 3 cells) is basically how we wrote the function together \n",
    "  - cells 1 and 2 define \n",
    "    - `create_report` function \n",
    "    - `update_counts` helper function \n",
    "  - cell 3 calls the `create_report` function \n",
    "- **Part 2** \n",
    "  - Import this function from `txt_file_report` and run it\n",
    "    - This is basically what I when importing from `test.py` in terminal\n",
    "\n",
    "    \n",
    "Note: all calls of the function have the same output. The python file (`txt_file_report`) storing this function has it written exactly the same, but under a different name so this notebook's function is not overwritten when the function is imported from `txt_file_report`."
   ]
  },
  {
   "cell_type": "code",
   "execution_count": null,
   "metadata": {},
   "outputs": [],
   "source": [
    "def nb_create_report(file_path='misc/test_text.txt'):\n",
    "    \"\"\"function: take file name and return the\n",
    "                 number of sentences, words, and characters\n",
    "  \n",
    "    inputs:\n",
    "        > file_name\n",
    "            >> path to file in question\n",
    "    \"\"\"\n",
    "    # set counting dictionary (track sentences, words, characters) \n",
    "    counts_dict = {'sentences': 0, 'words': 0, 'characters': 0}\n",
    "  \n",
    "    # open the file (not making it a string, yet)\n",
    "    with open(file=file_path, mode='r') as txt_file:\n",
    "        # go through each line \n",
    "        for line in txt_file:\n",
    "            # call helper function to update dictionary \n",
    "            nb_update_counts(line, counts_dict)\n",
    "            \n",
    "    # return dictionary with counts of sentences, words, and characters\n",
    "    return counts_dict"
   ]
  },
  {
   "cell_type": "code",
   "execution_count": 5,
   "metadata": {},
   "outputs": [],
   "source": [
    "def nb_update_counts(line, counts_dict):\n",
    "    \"\"\"helper function: updates the count of a dictionsary \n",
    "                        of words, sentences, and characters\n",
    "    \n",
    "    inputs:\n",
    "        > line\n",
    "            >> current line (str) of file being processed\n",
    "        > counts_dict\n",
    "            >> dictionary holding counts of words, sentences, and characters\n",
    "    \"\"\"\n",
    "    # update sentence count (only by periods)\n",
    "    counts_dict['sentences'] += line.count('.')\n",
    "    # update word count\n",
    "    counts_dict['words'] += len(line.split())\n",
    "    # update characters count (include spaces)\n",
    "    counts_dict['characters'] += len(line)  "
   ]
  },
  {
   "cell_type": "code",
   "execution_count": 6,
   "metadata": {},
   "outputs": [
    {
     "data": {
      "text/plain": [
       "{'sentences': 2, 'words': 16, 'characters': 76}"
      ]
     },
     "execution_count": 6,
     "metadata": {},
     "output_type": "execute_result"
    }
   ],
   "source": [
    "# default test\n",
    "nb_create_report()"
   ]
  },
  {
   "cell_type": "markdown",
   "metadata": {},
   "source": [
    "## Part 2\n",
    "### Import this function and run it\n",
    "This is basically what I did in class when running `txt_file_report.py` (then called `test.py` for those of you with pictures) in terminal \n",
    "\n",
    "#### There are two styles for importing \n",
    "- consider them the exact same\n",
    "  - **style 1**\n",
    "    - import the exact function being called\n",
    "      - then call (aka \"use\") the function by its name\n",
    "        - e.g. `create_report()`\n",
    "  - **style 2**\n",
    "    - import the entire file\n",
    "      - then call (aka \"use\") the function its file.name\n",
    "        - e.g. `txt_file_report.create_report()`\n",
    "  "
   ]
  },
  {
   "cell_type": "code",
   "execution_count": 8,
   "metadata": {},
   "outputs": [
    {
     "name": "stdout",
     "output_type": "stream",
     "text": [
      "{'sentences': 2, 'words': 16, 'characters': 76}\n"
     ]
    }
   ],
   "source": [
    "# style 1\n",
    "from txt_file_report import create_report\n",
    "\n",
    "report = create_report()\n",
    "\n",
    "print(report)"
   ]
  },
  {
   "cell_type": "code",
   "execution_count": 9,
   "metadata": {},
   "outputs": [
    {
     "name": "stdout",
     "output_type": "stream",
     "text": [
      "{'sentences': 2, 'words': 16, 'characters': 76}\n"
     ]
    }
   ],
   "source": [
    "# style 2\n",
    "import txt_file_report\n",
    "\n",
    "report = txt_file_report.create_report()\n",
    "\n",
    "print(report)"
   ]
  },
  {
   "cell_type": "markdown",
   "metadata": {},
   "source": [
    "To reproduce this locally on your machine, fork and clone the [solutions repo](https://github.com/gumdropsteve/intro_to_python_solns). \n",
    "\n",
    "If you have already forked the solutions repo, Google \"how to delete a GitHub repo\" and refork (or preform a pull request, highly not recommended).\n",
    "\n",
    "For a reminder on how to do this, flash back to [day1-git_unix/intro_git_assignment solution](https://github.com/gumdropsteve/intro_to_python_solns/blob/master/week1/day1-git_unix/intro_git_assignment.md) and follow the first 4.5ish steps \n",
    "- through `cd DSI-evening-prep` but `cd intro_to_python_solns` instead and then navigate to this folder (`week3/day6-functions_practice/from_class`)"
   ]
  },
  {
   "cell_type": "code",
   "execution_count": null,
   "metadata": {},
   "outputs": [],
   "source": []
  }
 ],
 "metadata": {
  "kernelspec": {
   "display_name": "Python 3",
   "language": "python",
   "name": "python3"
  },
  "language_info": {
   "codemirror_mode": {
    "name": "ipython",
    "version": 3
   },
   "file_extension": ".py",
   "mimetype": "text/x-python",
   "name": "python",
   "nbconvert_exporter": "python",
   "pygments_lexer": "ipython3",
   "version": "3.7.2"
  }
 },
 "nbformat": 4,
 "nbformat_minor": 2
}
